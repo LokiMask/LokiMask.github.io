{
 "cells": [
  {
   "cell_type": "markdown",
   "metadata": {},
   "source": [
    "## chapter 3 test"
   ]
  },
  {
   "cell_type": "code",
   "execution_count": 1,
   "metadata": {
    "collapsed": true
   },
   "outputs": [],
   "source": [
    "import tensorflow as tf\n",
    "import numpy as np"
   ]
  },
  {
   "cell_type": "code",
   "execution_count": 2,
   "metadata": {
    "collapsed": true
   },
   "outputs": [],
   "source": [
    "graph=tf.Graph()"
   ]
  },
  {
   "cell_type": "markdown",
   "metadata": {},
   "source": [
    "全局风格的Variable对象(一般是模型中的超参)，本例中是global_step即模型训练参数和total_output即模型输出累加和"
   ]
  },
  {
   "cell_type": "code",
   "execution_count": 3,
   "metadata": {
    "collapsed": true
   },
   "outputs": [],
   "source": [
    "with graph.as_default():\n",
    "    with tf.name_scope(\"variables\"):\n",
    "        #记录数据流图运行次数的变量和累加和的变量\n",
    "        global_step=tf.Variable(0,dtype=tf.int32,trainable=False,name=\"global_step\")\n",
    "        total_output=tf.Variable(0.0,dtype=tf.float32,trainable=False,name=\"total_output\")\n",
    "    with tf.name_scope(\"transformation\"):\n",
    "        with tf.name_scope(\"input\"):\n",
    "            #占位符\n",
    "            a=tf.placeholder(tf.float32,shape=[None],name=\"input_placeholder_a\")\n",
    "        with tf.name_scope(\"intermediate_layer\"):\n",
    "            b=tf.reduce_prod(a,name=\"product_b\")\n",
    "            c=tf.reduce_sum(a,name=\"sum_c\")\n",
    "        with tf.name_scope(\"output\"):\n",
    "            output=tf.add(b,c,name=\"output\")\n",
    "        with tf.name_scope(\"update\"):\n",
    "            update_total=total_output.assign_add(output)\n",
    "            increment_step=global_step.assign_add(1)\n",
    "        with tf.name_scope(\"summaries\"):\n",
    "            avg=tf.div(update_total,tf.cast(increment_step,tf.float32),name=\"average\")\n",
    "            tf.summary.scalar('Output',output)\n",
    "            tf.summary.scalar('Sum_of_outputs_over_time',update_total)\n",
    "            tf.summary.scalar('Average_of_outputs_over_time',avg)\n",
    "        with tf.name_scope(\"global_ops\"):\n",
    "            init=tf.global_variables_initializer()\n",
    "            merged_summaries=tf.summary.merge_all()"
   ]
  },
  {
   "cell_type": "code",
   "execution_count": 4,
   "metadata": {
    "collapsed": true
   },
   "outputs": [],
   "source": [
    "sess=tf.Session(graph=graph)\n",
    "writer=tf.summary.FileWriter(\"./chapter3_test\",sess.graph)\n",
    "sess.run(init)"
   ]
  },
  {
   "cell_type": "markdown",
   "metadata": {},
   "source": [
    "变换测试长度"
   ]
  },
  {
   "cell_type": "code",
   "execution_count": 5,
   "metadata": {
    "collapsed": true
   },
   "outputs": [],
   "source": [
    "def run_graph(input_tensor):\n",
    "    feed_ditc={a:input_tensor}\n",
    "    _,step,summary=sess.run([output,increment_step,merged_summaries],feed_dict=feed_ditc)\n",
    "    writer.add_summary(summary,global_step=step)"
   ]
  },
  {
   "cell_type": "code",
   "execution_count": 6,
   "metadata": {},
   "outputs": [],
   "source": [
    "run_graph([2.0,8.0])\n",
    "run_graph([3,1,3,3])\n",
    "run_graph([8])\n",
    "run_graph([1,2,3])\n",
    "run_graph([11,4])\n",
    "run_graph([4,1])\n",
    "run_graph([7,3,1])\n",
    "run_graph([6,3])"
   ]
  },
  {
   "cell_type": "code",
   "execution_count": 7,
   "metadata": {
    "collapsed": true
   },
   "outputs": [],
   "source": [
    "writer.flush()\n",
    "writer.close()\n",
    "sess.close()"
   ]
  }
 ],
 "metadata": {
  "kernelspec": {
   "display_name": "Python 3",
   "language": "python",
   "name": "python3"
  },
  "language_info": {
   "codemirror_mode": {
    "name": "ipython",
    "version": 3
   },
   "file_extension": ".py",
   "mimetype": "text/x-python",
   "name": "python",
   "nbconvert_exporter": "python",
   "pygments_lexer": "ipython3",
   "version": "3.6.2"
  }
 },
 "nbformat": 4,
 "nbformat_minor": 2
}
