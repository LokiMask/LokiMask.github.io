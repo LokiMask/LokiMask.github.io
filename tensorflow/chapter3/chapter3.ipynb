{
 "cells": [
  {
   "cell_type": "markdown",
   "metadata": {},
   "source": [
    "## chapter 3 tensorflow基础"
   ]
  },
  {
   "cell_type": "markdown",
   "metadata": {},
   "source": [
    "### 3.1 数据流图"
   ]
  },
  {
   "cell_type": "markdown",
   "metadata": {},
   "source": [
    "node：是对数据所做的运算或者操作\n",
    "edge：不同操作之间的连接（数据传输）"
   ]
  },
  {
   "cell_type": "markdown",
   "metadata": {},
   "source": [
    "注意避免出现循环依赖"
   ]
  },
  {
   "cell_type": "code",
   "execution_count": 1,
   "metadata": {
    "collapsed": true
   },
   "outputs": [],
   "source": [
    "import tensorflow as tf\n",
    "import numpy as np"
   ]
  },
  {
   "cell_type": "markdown",
   "metadata": {},
   "source": [
    "定义两个节点ab，constant常量op"
   ]
  },
  {
   "cell_type": "code",
   "execution_count": 2,
   "metadata": {
    "collapsed": true
   },
   "outputs": [],
   "source": [
    "a=tf.constant(5,name=\"input_a\")\n",
    "b=tf.constant(3,name=\"input_b\")"
   ]
  },
  {
   "cell_type": "markdown",
   "metadata": {},
   "source": [
    "定义了乘multiply操作和加法add操作"
   ]
  },
  {
   "cell_type": "code",
   "execution_count": 3,
   "metadata": {
    "collapsed": true
   },
   "outputs": [],
   "source": [
    "c=tf.multiply(a,b,name=\"mul_c\")\n",
    "d=tf.add(a,b,name=\"add_d\")\n",
    "e=tf.add(c,d,name=\"add_e\")"
   ]
  },
  {
   "cell_type": "markdown",
   "metadata": {},
   "source": [
    "注意python中有括号代表调用的函数返回值，没括号表示调用的函数本身"
   ]
  },
  {
   "cell_type": "code",
   "execution_count": 4,
   "metadata": {
    "collapsed": true
   },
   "outputs": [],
   "source": [
    "sess=tf.Session()"
   ]
  },
  {
   "cell_type": "code",
   "execution_count": 5,
   "metadata": {},
   "outputs": [
    {
     "data": {
      "text/plain": [
       "23"
      ]
     },
     "execution_count": 5,
     "metadata": {},
     "output_type": "execute_result"
    }
   ],
   "source": [
    "sess.run(e)"
   ]
  },
  {
   "cell_type": "code",
   "execution_count": 6,
   "metadata": {
    "collapsed": true
   },
   "outputs": [],
   "source": [
    "writer=tf.summary.FileWriter('./my_graph',sess.graph)"
   ]
  },
  {
   "cell_type": "markdown",
   "metadata": {},
   "source": [
    "运行上述代码，即讲数据流图保存到my_graph下，然后便可启动tensorboard查看"
   ]
  },
  {
   "cell_type": "markdown",
   "metadata": {},
   "source": [
    "回到终端输入 tensorboard --logdir=\"my_graph\""
   ]
  },
  {
   "cell_type": "code",
   "execution_count": 7,
   "metadata": {
    "collapsed": true
   },
   "outputs": [],
   "source": [
    "writer.close()\n",
    "sess.close()"
   ]
  },
  {
   "cell_type": "markdown",
   "metadata": {},
   "source": [
    "TensorFlow 可接收 Python 数值、布尔值、字符串或由它们构成的列表。单个数值将被转化为 0 阶张量(或标量),数值列表将被转化为 1 阶张量(向量),由列\n",
    "表构成的列表将被转化为 2 阶张量(矩阵)\n",
    "但建议使用numpy数组作为数据传入"
   ]
  },
  {
   "cell_type": "markdown",
   "metadata": {},
   "source": [
    "graph有默认的图，如果有并存的模型时，要自己建立graph"
   ]
  },
  {
   "cell_type": "markdown",
   "metadata": {},
   "source": [
    "session负责数据流图的执行"
   ]
  },
  {
   "cell_type": "code",
   "execution_count": 8,
   "metadata": {},
   "outputs": [
    {
     "data": {
      "text/plain": [
       "23"
      ]
     },
     "execution_count": 8,
     "metadata": {},
     "output_type": "execute_result"
    }
   ],
   "source": [
    "a=tf.placeholder(tf.int32,shape=[2],name=\"my_input\")\n",
    "b=tf.reduce_prod(a,name=\"prod_b\")\n",
    "c=tf.reduce_sum(a,name=\"sum_c\")\n",
    "d=tf.add(b,c,name=\"add_d\")\n",
    "sess=tf.Session()\n",
    "input_dict={a:np.array([5,3],dtype=np.int32)}\n",
    "sess.run(d,feed_dict=input_dict)"
   ]
  },
  {
   "cell_type": "markdown",
   "metadata": {},
   "source": [
    "通过名称作用于组织数据流图"
   ]
  }
 ],
 "metadata": {
  "kernelspec": {
   "display_name": "Python 3",
   "language": "python",
   "name": "python3"
  },
  "language_info": {
   "codemirror_mode": {
    "name": "ipython",
    "version": 3
   },
   "file_extension": ".py",
   "mimetype": "text/x-python",
   "name": "python",
   "nbconvert_exporter": "python",
   "pygments_lexer": "ipython3",
   "version": "3.6.2"
  }
 },
 "nbformat": 4,
 "nbformat_minor": 2
}
