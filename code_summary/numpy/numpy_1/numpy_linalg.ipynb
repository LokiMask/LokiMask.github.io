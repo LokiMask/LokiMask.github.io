{
 "cells": [
  {
   "cell_type": "markdown",
   "metadata": {},
   "source": [
    "# numpy"
   ]
  },
  {
   "cell_type": "markdown",
   "metadata": {},
   "source": [
    "### 线性代数模块(linalg)"
   ]
  },
  {
   "cell_type": "markdown",
   "metadata": {},
   "source": [
    "在深度学习相关的数据处理和运算中，线性代数模块（linalg）是最常用的之一。\n",
    "结合numpy提供的基本函数，可以对向量，矩阵，或是说多维张量进行一些基本的运算："
   ]
  },
  {
   "cell_type": "code",
   "execution_count": 2,
   "metadata": {
    "collapsed": true
   },
   "outputs": [],
   "source": [
    "import numpy as np"
   ]
  },
  {
   "cell_type": "code",
   "execution_count": 3,
   "metadata": {},
   "outputs": [
    {
     "data": {
      "text/plain": [
       "5.0"
      ]
     },
     "execution_count": 3,
     "metadata": {},
     "output_type": "execute_result"
    }
   ],
   "source": [
    "a=np.array([3,4])\n",
    "np.linalg.norm(a)  #范数norm"
   ]
  },
  {
   "cell_type": "code",
   "execution_count": 4,
   "metadata": {
    "collapsed": true
   },
   "outputs": [],
   "source": [
    "b=np.array([\n",
    "    [1,2,3],\n",
    "    [4,5,6],\n",
    "    [7,8,9]\n",
    "])\n",
    "c=np.array([1,0,1])"
   ]
  },
  {
   "cell_type": "code",
   "execution_count": 6,
   "metadata": {},
   "outputs": [
    {
     "data": {
      "text/plain": [
       "(array([ 4, 10, 16]), array([ 4, 10, 16]), array([ 4, 10, 16]))"
      ]
     },
     "execution_count": 6,
     "metadata": {},
     "output_type": "execute_result"
    }
   ],
   "source": [
    "#矩阵和向量之间的乘法\n",
    "np.dot(b,c),np.dot(c,b.T),np.dot(b,c.T)#原来可以自适应乘啊=-="
   ]
  },
  {
   "cell_type": "markdown",
   "metadata": {},
   "source": [
    "> 矩阵的迹：一个n*n的矩阵A的主对角线（左上方->右下方）上各个元素的总和   "
   ]
  },
  {
   "cell_type": "code",
   "execution_count": 7,
   "metadata": {},
   "outputs": [
    {
     "data": {
      "text/plain": [
       "15"
      ]
     },
     "execution_count": 7,
     "metadata": {},
     "output_type": "execute_result"
    }
   ],
   "source": [
    "#矩阵的迹\n",
    "np.trace(b)"
   ]
  },
  {
   "cell_type": "code",
   "execution_count": 8,
   "metadata": {},
   "outputs": [
    {
     "data": {
      "text/plain": [
       "-9.5161973539299405e-16"
      ]
     },
     "execution_count": 8,
     "metadata": {},
     "output_type": "execute_result"
    }
   ],
   "source": [
    "#行列式的值\n",
    "np.linalg.det(b)"
   ]
  },
  {
   "cell_type": "code",
   "execution_count": 9,
   "metadata": {},
   "outputs": [
    {
     "data": {
      "text/plain": [
       "2"
      ]
     },
     "execution_count": 9,
     "metadata": {},
     "output_type": "execute_result"
    }
   ],
   "source": [
    "#矩阵的秩\n",
    "np.linalg.matrix_rank(b)"
   ]
  },
  {
   "cell_type": "code",
   "execution_count": 10,
   "metadata": {
    "collapsed": true
   },
   "outputs": [],
   "source": [
    "d=np.array([\n",
    "    [2,1],\n",
    "    [1,2]\n",
    "])"
   ]
  },
  {
   "cell_type": "code",
   "execution_count": 11,
   "metadata": {},
   "outputs": [
    {
     "data": {
      "text/plain": [
       "array([[ 1.,  2.],\n",
       "       [ 3.,  4.]])"
      ]
     },
     "execution_count": 11,
     "metadata": {},
     "output_type": "execute_result"
    }
   ],
   "source": [
    "'''\n",
    "对正定矩阵求本征值和本征向量\n",
    "本征值为u，array([ 3.,  1.])\n",
    "本征向量构成的二维array为v，\n",
    "array([[ 0.70710678, -0.70710678],\n",
    "       [ 0.70710678,  0.70710678]])\n",
    "是沿着45°方向\n",
    "eig()是一般情况的本征值分解，对于更常见的对称实数矩阵，\n",
    "eigh()更快且更稳定，不过输出的值的顺序和eig()是相反的\n",
    "'''\n",
    "#看不懂啊，，马一下后补\n",
    "u,v=np.linalg.eig(d)\n",
    "# Cholesky分解并重建\n",
    "l = np.linalg.cholesky(d)\n",
    "\n",
    "'''\n",
    "array([[ 2.,  1.],\n",
    "       [ 1.,  2.]])\n",
    "'''\n",
    "np.dot(l, l.T)\n",
    "\n",
    "e = np.array([\n",
    "    [1, 2],\n",
    "    [3, 4]\n",
    "])\n",
    "# 对不正定矩阵，进行SVD分解并重建\n",
    "U, s, V = np.linalg.svd(e)\n",
    "\n",
    "S = np.array([\n",
    "    [s[0], 0],\n",
    "    [0, s[1]]\n",
    "])\n",
    "\n",
    "'''\n",
    "array([[ 1.,  2.],\n",
    "       [ 3.,  4.]])\n",
    "'''\n",
    "np.dot(U, np.dot(S, V))"
   ]
  },
  {
   "cell_type": "markdown",
   "metadata": {},
   "source": [
    "### 随机模块"
   ]
  },
  {
   "cell_type": "code",
   "execution_count": 12,
   "metadata": {
    "collapsed": true
   },
   "outputs": [],
   "source": [
    "import numpy.random as random"
   ]
  },
  {
   "cell_type": "code",
   "execution_count": 13,
   "metadata": {
    "collapsed": true
   },
   "outputs": [],
   "source": [
    "#设置随机数种子\n",
    "random.seed(42)"
   ]
  },
  {
   "cell_type": "code",
   "execution_count": 14,
   "metadata": {},
   "outputs": [
    {
     "data": {
      "text/plain": [
       "array([[ 0.37454012,  0.95071431,  0.73199394]])"
      ]
     },
     "execution_count": 14,
     "metadata": {},
     "output_type": "execute_result"
    }
   ],
   "source": [
    "#产生一个1*3，[0,1)之间的浮点型随机数\n",
    "random.rand(1,3)"
   ]
  },
  {
   "cell_type": "code",
   "execution_count": 15,
   "metadata": {},
   "outputs": [
    {
     "data": {
      "text/plain": [
       "0.5986584841970366"
      ]
     },
     "execution_count": 15,
     "metadata": {},
     "output_type": "execute_result"
    }
   ],
   "source": [
    "#产生一个[0,1)之间的浮点型随机数\n",
    "random.rand()"
   ]
  },
  {
   "cell_type": "code",
   "execution_count": 16,
   "metadata": {},
   "outputs": [
    {
     "data": {
      "text/plain": [
       "(array([[ 0.15601864,  0.15599452,  0.05808361],\n",
       "        [ 0.86617615,  0.60111501,  0.70807258],\n",
       "        [ 0.02058449,  0.96990985,  0.83244264]]),\n",
       " array([[ 0.21233911,  0.18182497,  0.18340451],\n",
       "        [ 0.30424224,  0.52475643,  0.43194502],\n",
       "        [ 0.29122914,  0.61185289,  0.13949386]]),\n",
       " array([[ 0.29214465,  0.36636184,  0.45606998],\n",
       "        [ 0.78517596,  0.19967378,  0.51423444],\n",
       "        [ 0.59241457,  0.04645041,  0.60754485]]),\n",
       " array([[ 0.17052412,  0.06505159,  0.94888554],\n",
       "        [ 0.96563203,  0.80839735,  0.30461377],\n",
       "        [ 0.09767211,  0.68423303,  0.44015249]]))"
      ]
     },
     "execution_count": 16,
     "metadata": {},
     "output_type": "execute_result"
    }
   ],
   "source": [
    "#下面四个没有区别，都是按照指定大小产生[0,1)之间的浮点型随机数\n",
    "random.random((3,3)),random.sample((3,3)),random.random_sample((3,3)),random.ranf((3,3))"
   ]
  },
  {
   "cell_type": "code",
   "execution_count": 18,
   "metadata": {},
   "outputs": [
    {
     "data": {
      "text/plain": [
       "(array([ 5.84792314,  4.87566412,  5.69749471,  5.47413675,  3.98949989,\n",
       "         5.60937118,  1.44246251,  1.97991431,  1.22613644,  2.62665165]),\n",
       " array([ 2.94338645,  2.35674516,  5.14368755,  2.78376663,  2.40467255,\n",
       "         3.71348042,  1.70462112,  5.0109849 ,  1.37275322,  5.93443468]))"
      ]
     },
     "execution_count": 18,
     "metadata": {},
     "output_type": "execute_result"
    }
   ],
   "source": [
    "#产生10个[1,6)之间的浮点型随机数\n",
    "5*random.random(10)+1,random.uniform(1,6,10)"
   ]
  },
  {
   "cell_type": "code",
   "execution_count": 19,
   "metadata": {},
   "outputs": [
    {
     "data": {
      "text/plain": [
       "array([1, 4, 3, 3, 1, 3, 3, 1, 3, 5])"
      ]
     },
     "execution_count": 19,
     "metadata": {},
     "output_type": "execute_result"
    }
   ],
   "source": [
    "#产生10个[1,6)之间的整型随机数\n",
    "random.randint(1,6,10)"
   ]
  },
  {
   "cell_type": "code",
   "execution_count": 20,
   "metadata": {},
   "outputs": [
    {
     "data": {
      "text/plain": [
       "array([[ 0.21158701,  0.59704465],\n",
       "       [-0.89633518, -0.11198782],\n",
       "       [ 1.46894129, -1.12389833],\n",
       "       [ 0.9500054 ,  1.72651647],\n",
       "       [ 0.45788508, -1.68428738]])"
      ]
     },
     "execution_count": 20,
     "metadata": {},
     "output_type": "execute_result"
    }
   ],
   "source": [
    "#产生2*5的标准正态分布样本\n",
    "random.normal(size=(5,2))"
   ]
  },
  {
   "cell_type": "code",
   "execution_count": 21,
   "metadata": {},
   "outputs": [
    {
     "data": {
      "text/plain": [
       "array([2, 5, 4, 3, 2])"
      ]
     },
     "execution_count": 21,
     "metadata": {},
     "output_type": "execute_result"
    }
   ],
   "source": [
    "#产生5个，n=5,p=0.5的二项分布样本\n",
    "random.binomial(n=5,p=0.5,size=5)"
   ]
  },
  {
   "cell_type": "code",
   "execution_count": 23,
   "metadata": {},
   "outputs": [
    {
     "data": {
      "text/plain": [
       "array([0, 1, 2, 3, 4, 5, 6, 7, 8, 9])"
      ]
     },
     "execution_count": 23,
     "metadata": {},
     "output_type": "execute_result"
    }
   ],
   "source": [
    "a=np.arange(10)\n",
    "a"
   ]
  },
  {
   "cell_type": "code",
   "execution_count": 24,
   "metadata": {},
   "outputs": [
    {
     "data": {
      "text/plain": [
       "array([6, 8, 9, 9, 2, 6, 0])"
      ]
     },
     "execution_count": 24,
     "metadata": {},
     "output_type": "execute_result"
    }
   ],
   "source": [
    "#从a中有放回的随机采样7个\n",
    "random.choice(a,7)"
   ]
  },
  {
   "cell_type": "code",
   "execution_count": 25,
   "metadata": {},
   "outputs": [
    {
     "data": {
      "text/plain": [
       "array([7, 1, 8, 0, 2, 6, 4])"
      ]
     },
     "execution_count": 25,
     "metadata": {},
     "output_type": "execute_result"
    }
   ],
   "source": [
    "#从a中无放回的随机采样7个\n",
    "random.choice(a,7,replace=False)"
   ]
  },
  {
   "cell_type": "code",
   "execution_count": 26,
   "metadata": {},
   "outputs": [
    {
     "data": {
      "text/plain": [
       "array([8, 9, 4, 0, 7, 1, 3, 5, 2, 6])"
      ]
     },
     "execution_count": 26,
     "metadata": {},
     "output_type": "execute_result"
    }
   ],
   "source": [
    "#对a进行乱序并返回一个新的array\n",
    "b=random.permutation(a)\n",
    "b"
   ]
  },
  {
   "cell_type": "code",
   "execution_count": 28,
   "metadata": {},
   "outputs": [
    {
     "data": {
      "text/plain": [
       "array([2, 1, 3, 8, 5, 6, 0, 9, 7, 4])"
      ]
     },
     "execution_count": 28,
     "metadata": {},
     "output_type": "execute_result"
    }
   ],
   "source": [
    "#对a进行in-place乱序\n",
    "random.shuffle(a)\n",
    "a"
   ]
  },
  {
   "cell_type": "code",
   "execution_count": 29,
   "metadata": {},
   "outputs": [
    {
     "data": {
      "text/plain": [
       "b'\\xbd\\xefVmx\\x1a\"\\x00s'"
      ]
     },
     "execution_count": 29,
     "metadata": {},
     "output_type": "execute_result"
    }
   ],
   "source": [
    "# 生成一个长度为9的随机bytes序列并作为str返回\n",
    "random.bytes(9)"
   ]
  },
  {
   "cell_type": "code",
   "execution_count": null,
   "metadata": {
    "collapsed": true
   },
   "outputs": [],
   "source": []
  }
 ],
 "metadata": {
  "kernelspec": {
   "display_name": "Python 3",
   "language": "python",
   "name": "python3"
  },
  "language_info": {
   "codemirror_mode": {
    "name": "ipython",
    "version": 3
   },
   "file_extension": ".py",
   "mimetype": "text/x-python",
   "name": "python",
   "nbconvert_exporter": "python",
   "pygments_lexer": "ipython3",
   "version": "3.6.2"
  }
 },
 "nbformat": 4,
 "nbformat_minor": 2
}
