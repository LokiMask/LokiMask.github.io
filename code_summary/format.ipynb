{
 "cells": [
  {
   "cell_type": "markdown",
   "metadata": {},
   "source": [
    "### 字符串format"
   ]
  },
  {
   "cell_type": "markdown",
   "metadata": {},
   "source": [
    "字符串的参数使用{NUM}表示，0表示第一个参数，1表示第二个参数，以后顺次递加；\n",
    "- 使用\":\",代表制定元素需要的操作，如\":.3\"代表小数点后三位，\":8\"占8个字符空间等;\n",
    "- 数字{0,1, ...}即代表format()里面的元素，所以可以使用\".\"调用元素的方法"
   ]
  },
  {
   "cell_type": "code",
   "execution_count": 1,
   "metadata": {},
   "outputs": [
    {
     "name": "stdout",
     "output_type": "stream",
     "text": [
      "LokiMask is 25 years old.\n",
      "0.333 is a decimal.\n",
      "_LokiMask__ is a 11 length\n",
      "LokiMask is as kitty\n",
      "My name is out.txt\n",
      "my name is Fred    \n"
     ]
    }
   ],
   "source": [
    "age = 25\n",
    "name = \"LokiMask\"\n",
    "\n",
    "print('{0} is {1} years old.'.format(name, age)) #输出\n",
    "print('{0:.3} is a decimal.'.format(1/3))#小数点后三位\n",
    "print('{0:_^11} is a 11 length'.format(name))#使用_补齐空位\n",
    "print('{first} is as {second}'.format(first=name, second='kitty'))\n",
    "print('My name is {0.name}'.format(open('out.txt', 'w')))#.调用方法\n",
    "print('my name is {0:8}'.format('Fred'))"
   ]
  }
 ],
 "metadata": {
  "kernelspec": {
   "display_name": "Python 3",
   "language": "python",
   "name": "python3"
  },
  "language_info": {
   "codemirror_mode": {
    "name": "ipython",
    "version": 3
   },
   "file_extension": ".py",
   "mimetype": "text/x-python",
   "name": "python",
   "nbconvert_exporter": "python",
   "pygments_lexer": "ipython3",
   "version": "3.6.3"
  }
 },
 "nbformat": 4,
 "nbformat_minor": 2
}
