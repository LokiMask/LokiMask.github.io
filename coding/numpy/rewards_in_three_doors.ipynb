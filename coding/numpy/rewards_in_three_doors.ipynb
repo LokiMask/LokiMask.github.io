{
 "cells": [
  {
   "cell_type": "markdown",
   "metadata": {},
   "source": [
    "### 三扇门奖品问题"
   ]
  },
  {
   "cell_type": "code",
   "execution_count": 1,
   "metadata": {
    "collapsed": true
   },
   "outputs": [],
   "source": [
    "import numpy.random as random\n",
    "random.seed(42)"
   ]
  },
  {
   "cell_type": "code",
   "execution_count": 2,
   "metadata": {
    "collapsed": true
   },
   "outputs": [],
   "source": [
    "#做10000次实验\n",
    "n_tests=10000\n",
    "\n",
    "#生成每次实验的奖品所在门的编号\n",
    "#0表示第一扇门，1表示第二扇门，2表示第三扇门\n",
    "winning_doors=random.randint(0,3,n_tests)\n",
    "\n",
    "#记录如果换门的中奖次数\n",
    "chang_mind_wins=0\n",
    "\n",
    "#记录如果坚持的中奖次数\n",
    "insist_wins=0"
   ]
  },
  {
   "cell_type": "code",
   "execution_count": 3,
   "metadata": {
    "collapsed": true
   },
   "outputs": [],
   "source": [
    "#winning_door是获胜门的编号\n",
    "for winning_door in winning_doors:\n",
    "    #随机挑一扇门\n",
    "    first_try=random.randint(0,3)\n",
    "    #其他门的编号\n",
    "    remaining_choices=[i for i in range(3) if i!=first_try]\n",
    "    #没有奖品的门的编号，这个信息只有主持人知道\n",
    "    wrong_choices=[i for i in range(3) if i!=winning_door]\n",
    "    #一开始选择的门主持人没法打开，将其剔除\n",
    "    if first_try in wrong_choices:\n",
    "        wrong_choices.remove(first_try)\n",
    "    #这时wrong_choices就是主持人可以打开的集合\n",
    "    #注意如果first对，则这里主人可以随意开一扇门\n",
    "    #一开始选错，则主人只能打开唯一一扇\n",
    "    screened_out=random.choice(wrong_choices)\n",
    "    remaining_choices.remove(screened_out)\n",
    "    #剩下的门为如果改变主意的选择\n",
    "    changed_mind_try=remaining_choices[0]\n",
    "    #结果\n",
    "    chang_mind_wins+=1 if changed_mind_try==winning_door else 0\n",
    "    insist_wins+=1 if first_try==winning_door else 0"
   ]
  },
  {
   "cell_type": "code",
   "execution_count": 4,
   "metadata": {},
   "outputs": [
    {
     "name": "stdout",
     "output_type": "stream",
     "text": [
      "You win 6616 out of 10000 tests if you changed your mind\n",
      "You win 3384 out of 10000 tests if you insist on the initial choice\n"
     ]
    }
   ],
   "source": [
    "print(\n",
    "    'You win {1} out of {0} tests if you changed your mind\\n'\n",
    "    'You win {2} out of {0} tests if you insist on the initial choice'.format(\n",
    "        n_tests, chang_mind_wins, insist_wins\n",
    "        )\n",
    ")"
   ]
  }
 ],
 "metadata": {
  "kernelspec": {
   "display_name": "Python 3",
   "language": "python",
   "name": "python3"
  },
  "language_info": {
   "codemirror_mode": {
    "name": "ipython",
    "version": 3
   },
   "file_extension": ".py",
   "mimetype": "text/x-python",
   "name": "python",
   "nbconvert_exporter": "python",
   "pygments_lexer": "ipython3",
   "version": "3.6.2"
  }
 },
 "nbformat": 4,
 "nbformat_minor": 2
}
