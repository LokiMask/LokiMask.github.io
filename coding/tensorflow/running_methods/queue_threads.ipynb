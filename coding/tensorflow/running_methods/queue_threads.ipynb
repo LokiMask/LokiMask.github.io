{
 "cells": [
  {
   "cell_type": "markdown",
   "metadata": {},
   "source": [
    "# 线程和队列"
   ]
  },
  {
   "cell_type": "markdown",
   "metadata": {},
   "source": [
    "\n",
    "\n",
    "在使用TensorFlow进行异步计算时，队列是一种强大的机制。\n",
    "\n",
    "正如TensorFlow中的其他组件一样，队列就是TensorFlow图中的节点。这是一种有状态的节点，就像变量一样：其他节点可以修改它的内容。具体来说，其他节点可以把新元素插入到队列后端(rear)，也可以把队列前端(front)的元素删除。"
   ]
  },
  {
   "cell_type": "code",
   "execution_count": 1,
   "metadata": {
    "collapsed": true
   },
   "outputs": [],
   "source": [
    "import tensorflow as tf"
   ]
  },
  {
   "cell_type": "code",
   "execution_count": 2,
   "metadata": {
    "collapsed": true
   },
   "outputs": [],
   "source": [
    "q=tf.FIFOQueue(3,\"float\")"
   ]
  },
  {
   "cell_type": "code",
   "execution_count": 3,
   "metadata": {
    "collapsed": true
   },
   "outputs": [],
   "source": [
    "init=q.enqueue_many(([0.,0.,0.],))\n",
    "x=q.dequeue()\n",
    "y=x+1\n",
    "q_inc=q.enqueue([y])"
   ]
  },
  {
   "cell_type": "markdown",
   "metadata": {},
   "source": [
    "## 队列使用概述"
   ]
  },
  {
   "cell_type": "markdown",
   "metadata": {},
   "source": [
    "队列，如FIFOQueue和RandomShuffleQueue，在TensorFlow的张量异步计算时都非常重要。\n",
    "\n",
    "例如，一个典型的输入结构：是使用一个RandomShuffleQueue来作为模型训练的输入：\n",
    "\n",
    "- 多个线程准备训练样本，并且把这些样本推入队列。\n",
    "- 一个训练线程执行一个训练操作，此操作会从队列中移除最小批次的样本（mini-batches)。"
   ]
  },
  {
   "cell_type": "code",
   "execution_count": 6,
   "metadata": {},
   "outputs": [
    {
     "name": "stdout",
     "output_type": "stream",
     "text": [
      "None\n"
     ]
    }
   ],
   "source": []
  },
  {
   "cell_type": "code",
   "execution_count": null,
   "metadata": {
    "collapsed": true
   },
   "outputs": [],
   "source": []
  }
 ],
 "metadata": {
  "kernelspec": {
   "display_name": "Python 3",
   "language": "python",
   "name": "python3"
  },
  "language_info": {
   "codemirror_mode": {
    "name": "ipython",
    "version": 3
   },
   "file_extension": ".py",
   "mimetype": "text/x-python",
   "name": "python",
   "nbconvert_exporter": "python",
   "pygments_lexer": "ipython3",
   "version": "3.6.2"
  }
 },
 "nbformat": 4,
 "nbformat_minor": 2
}
