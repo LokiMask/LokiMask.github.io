{
 "cells": [
  {
   "cell_type": "code",
   "execution_count": 1,
   "metadata": {},
   "outputs": [],
   "source": [
    "import pdb"
   ]
  },
  {
   "cell_type": "code",
   "execution_count": 2,
   "metadata": {},
   "outputs": [],
   "source": [
    "def pdb_test(arg):\n",
    "    for i in range(arg):\n",
    "        print(i)\n",
    "    return arg"
   ]
  },
  {
   "cell_type": "markdown",
   "metadata": {},
   "source": [
    "c表示继续执行直至遇到下个断点"
   ]
  },
  {
   "cell_type": "code",
   "execution_count": null,
   "metadata": {},
   "outputs": [
    {
     "name": "stdout",
     "output_type": "stream",
     "text": [
      "> <string>(1)<module>()\n",
      "(Pdb) b 1\n",
      "End of file\n",
      "(Pdb) b pdb_test\n",
      "Breakpoint 1 at <ipython-input-2-2906eb9d37fd>:1\n",
      "(Pdb) b\n",
      "Num Type         Disp Enb   Where\n",
      "1   breakpoint   keep yes   at <ipython-input-2-2906eb9d37fd>:1\n",
      "(Pdb) l\n",
      "[EOF]\n",
      "(Pdb) c\n",
      "> <ipython-input-2-2906eb9d37fd>(2)pdb_test()\n",
      "-> for i in range(arg):\n",
      "(Pdb) l\n",
      "  1 B\tdef pdb_test(arg):\n",
      "  2  ->\t    for i in range(arg):\n",
      "  3  \t        print(i)\n",
      "  4  \t    return arg\n",
      "[EOF]\n",
      "(Pdb) a\n",
      "arg = 3\n",
      "(Pdb) i\n",
      "*** NameError: name 'i' is not defined\n",
      "(Pdb) arg\n",
      "3\n",
      "(Pdb) n\n",
      "> <ipython-input-2-2906eb9d37fd>(3)pdb_test()\n",
      "-> print(i)\n",
      "(Pdb) n\n",
      "0\n",
      "> <ipython-input-2-2906eb9d37fd>(2)pdb_test()\n",
      "-> for i in range(arg):\n",
      "(Pdb) n\n",
      "> <ipython-input-2-2906eb9d37fd>(3)pdb_test()\n",
      "-> print(i)\n",
      "(Pdb) n\n",
      "1\n",
      "> <ipython-input-2-2906eb9d37fd>(2)pdb_test()\n",
      "-> for i in range(arg):\n",
      "(Pdb) n\n",
      "> <ipython-input-2-2906eb9d37fd>(3)pdb_test()\n",
      "-> print(i)\n",
      "(Pdb) n\n",
      "2\n",
      "> <ipython-input-2-2906eb9d37fd>(2)pdb_test()\n",
      "-> for i in range(arg):\n"
     ]
    }
   ],
   "source": [
    "pdb.run(\"pdb_test(3)\")"
   ]
  },
  {
   "cell_type": "code",
   "execution_count": null,
   "metadata": {},
   "outputs": [],
   "source": []
  }
 ],
 "metadata": {
  "kernelspec": {
   "display_name": "Python 3",
   "language": "python",
   "name": "python3"
  },
  "language_info": {
   "codemirror_mode": {
    "name": "ipython",
    "version": 3
   },
   "file_extension": ".py",
   "mimetype": "text/x-python",
   "name": "python",
   "nbconvert_exporter": "python",
   "pygments_lexer": "ipython3",
   "version": "3.6.3"
  }
 },
 "nbformat": 4,
 "nbformat_minor": 2
}
